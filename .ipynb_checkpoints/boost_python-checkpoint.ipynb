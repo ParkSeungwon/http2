{
 "cells": [
  {
   "cell_type": "code",
   "execution_count": 1,
   "metadata": {},
   "outputs": [],
   "source": [
    "from tls_crypt import *\n",
    "\n",
    "def str2list(s) :\n",
    "    r = []\n",
    "    for c in s: r.append(ord(c))\n",
    "    return r\n",
    "\n",
    "def add_padding(l):\n",
    "    padding = 15 - len(l) % 16\n",
    "    for i in range(padding + 1): l.append(padding)\n",
    "    return l\n",
    "\n",
    "def remove_padding(l):\n",
    "    padding = l[-1] + 1\n",
    "    for i in range(padding): l.pop()\n",
    "    return l\n",
    "\n",
    "def list2str(l) :\n",
    "    r = ''\n",
    "    for c in l: r += chr(c)\n",
    "    return r\n",
    "\n",
    "def hex2list(s):\n",
    "    assert len(s) % 16 == 0\n",
    "    l = []\n",
    "    str = ''\n",
    "    for c in s:\n",
    "        str += c\n",
    "        if len(str) == 2:\n",
    "            l.append(int(str, 16))\n",
    "            str = ''\n",
    "    return l"
   ]
  },
  {
   "cell_type": "code",
   "execution_count": 2,
   "metadata": {},
   "outputs": [
    {
     "name": "stdout",
     "output_type": "stream",
     "text": [
      "[9, 159, 232, 252, 38, 177, 179, 255, 131, 11, 198, 55, 39, 28, 255, 36, 240, 133, 111, 58, 156, 17, 164, 253, 34, 182, 164, 215, 120, 102, 183, 22, 227, 38, 48, 137, 115, 205, 183, 22, 1, 124, 91, 254, 252, 31, 135, 227]\n",
      "[20, 0, 0, 12, 72, 3, 123, 113, 73, 151, 146, 150, 21, 21, 196, 54, 244, 198, 51, 15, 135, 72, 89, 54, 37, 67, 82, 114, 114, 77, 57, 99, 44, 223, 76, 6, 11, 11, 11, 11, 11, 11, 11, 11, 11, 11, 11, 11]\n"
     ]
    }
   ],
   "source": [
    "aes = AES()\n",
    "\n",
    "client_key = 0x231a650ecfc578bea4b0467adaab33c2\n",
    "server_key = 0x45ec5fe99527a6f2c9c3889fcd2e65c1\n",
    "msg = '1400000c48037b71499792961515c436f4c6330f8748593625435272724d39632cdf4c060b0b0b0b0b0b0b0b0b0b0b0b'\n",
    "iv = 0x4c63014c671a8bae25b22def0f57ce79\n",
    "\n",
    "aes.key(server_key)\n",
    "aes.iv(iv)\n",
    "enc = aes.encrypt(hex2list(msg))\n",
    "print enc\n",
    "dec = aes.decrypt(enc)\n",
    "print dec\n",
    "#'e4228485b936b34af05bcb0e3aabd962206ad5f954708a1c901106dd9dd05de44408a5b9d376a437c399d144cc80990c'\n",
    "#print hexdump(s)"
   ]
  },
  {
   "cell_type": "markdown",
   "metadata": {},
   "source": [
    "<h2>AES</h2>"
   ]
  },
  {
   "cell_type": "code",
   "execution_count": 3,
   "metadata": {},
   "outputs": [
    {
     "name": "stdout",
     "output_type": "stream",
     "text": [
      "hello world\n",
      "[104, 101, 108, 108, 111, 32, 119, 111, 114, 108, 100]\n",
      "[104, 101, 108, 108, 111, 32, 119, 111, 114, 108, 100, 4, 4, 4, 4, 4]\n",
      "[217, 176, 6, 59, 201, 30, 111, 164, 7, 24, 187, 42, 168, 246, 4, 55]\n",
      "[104, 101, 108, 108, 111, 32, 119, 111, 114, 108, 100, 4, 4, 4, 4, 4]\n",
      "[104, 101, 108, 108, 111, 32, 119, 111, 114, 108, 100]\n",
      "hello world\n"
     ]
    }
   ],
   "source": [
    "s = 'hello world'\n",
    "print s\n",
    "s = str2list(s)\n",
    "print s\n",
    "add_padding(s)\n",
    "print s\n",
    "s = aes.encrypt(s)#should be multiple of 16\n",
    "print s\n",
    "\n",
    "s = aes.decrypt(s)\n",
    "print s\n",
    "remove_padding(s)\n",
    "print s\n",
    "s = list2str(s)\n",
    "print s"
   ]
  },
  {
   "cell_type": "markdown",
   "metadata": {},
   "source": [
    "<h2>Base64</h2>"
   ]
  },
  {
   "cell_type": "code",
   "execution_count": 4,
   "metadata": {},
   "outputs": [
    {
     "name": "stdout",
     "output_type": "stream",
     "text": [
      "message to encode\n",
      "[109, 101, 115, 115, 97, 103, 101, 32, 116, 111, 32, 101, 110, 99, 111, 100, 101]\n",
      "bWVzc2FnZSB0byBlbmNvZGU=\n",
      "[109, 101, 115, 115, 97, 103, 101, 32, 116, 111, 32, 101, 110, 99, 111, 100, 101]\n",
      "message to encode\n"
     ]
    }
   ],
   "source": [
    "s = 'message to encode'\n",
    "print s\n",
    "s = str2list(s)\n",
    "print s\n",
    "s = base64_encode(s)\n",
    "print s\n",
    "s = base64_decode(s)\n",
    "print s\n",
    "s = list2str(s)\n",
    "print s"
   ]
  },
  {
   "cell_type": "markdown",
   "metadata": {},
   "source": [
    "<h2>SHA hash & pem file read</h2>"
   ]
  },
  {
   "cell_type": "code",
   "execution_count": 5,
   "metadata": {},
   "outputs": [
    {
     "name": "stdout",
     "output_type": "stream",
     "text": [
      "[228, 197, 194, 43, 14, 162, 155, 139, 171, 211, 125, 21, 9, 46, 56, 234, 115, 82, 116, 150]\n",
      "[205, 35, 121, 170, 114, 137, 68, 81, 68, 223, 129, 90, 158, 83, 223, 77, 143, 126, 111, 187, 168, 69, 31, 97, 96, 134, 162, 92, 146, 51, 220, 6]\n",
      "[100, 251, 140, 146, 184, 107, 177, 193, 60, 123, 4, 97, 131, 170, 10, 112, 123, 126, 130, 92, 28, 215, 104, 175, 6, 26, 121, 26, 183, 52, 76, 156, 195, 149, 69, 4, 146, 251, 184, 125, 5, 136, 89, 67, 13, 164, 223, 185, 45, 210, 102, 205, 89, 93, 91, 252, 193, 89, 85, 156, 27, 42, 183, 37]\n",
      "[231, 177, 123, 135, 177, 91, 0, 43, 220, 154, 202, 171, 24, 68, 147, 124, 231, 153, 205, 170, 128, 87, 123, 220, 6, 75, 244, 76, 115, 164, 220, 210]\n"
     ]
    }
   ],
   "source": [
    "sha = SHA1()\n",
    "print sha.hash(str2list(s))\n",
    "sha = SHA256()\n",
    "print sha.hash(str2list(s))\n",
    "sha = SHA512()\n",
    "print sha.hash(str2list(s))\n",
    "mac = HMAC()\n",
    "mac.key(str2list(s))\n",
    "print mac.hash(str2list(s))"
   ]
  },
  {
   "cell_type": "code",
   "execution_count": 6,
   "metadata": {},
   "outputs": [
    {
     "name": "stdout",
     "output_type": "stream",
     "text": [
      "[[[['02:'], '00:d5:23:b2:35:6d:f1:dc:24:', ['2a:86:48:86:f7:0d:01:01:0b:', 'null'], [[['55:04:06:', 'AU']], [['55:04:08:', 'CA']], [['55:04:07:', 'San francisco']], [['55:04:0a:', 'Internet Widgits Pty Ltd']], [['55:04:03:', 'psw']], [['2a:86:48:86:f7:0d:01:09:01:', 'zezeon@msn.com']]], ['180515055157Z', '210208055157Z'], [[['55:04:06:', 'AU']], [['55:04:08:', 'CA']], [['55:04:07:', 'San francisco']], [['55:04:0a:', 'Internet Widgits Pty Ltd']], [['55:04:03:', 'psw']], [['2a:86:48:86:f7:0d:01:09:01:', 'zezeon@msn.com']]], [['2a:86:48:86:f7:0d:01:01:01:', 'null'], '00:30:82:01:0a:02:82:01:01:00:c0:0c:a3:c6:6a:2c:dc:62:99:af:2d:44:f6:9c:d1:17:33:6b:4a:d6:d5:28:b7:1f:c9:52:a9:52:13:e1:c5:ed:c5:b1:f5:58:44:21:dd:31:92:7a:62:0d:72:99:46:1f:3f:9c:c9:fd:48:1f:af:2a:93:8a:0a:83:13:71:51:78:7c:11:71:47:4f:64:17:60:3d:c2:c8:1f:a1:fe:d7:d1:51:9a:13:83:02:41:8e:88:33:d8:35:df:bd:68:3c:fc:71:6a:51:f6:0e:15:22:1c:e2:77:34:e1:02:29:f6:3a:e9:e0:d5:72:e8:c3:30:68:ce:13:33:fa:14:dc:74:33:05:9a:2b:c6:42:ad:91:11:ca:69:2e:07:6c:0a:3d:e1:7e:a5:d0:1d:23:50:4c:11:fc:32:c4:aa:be:25:75:c8:21:b0:10:d5:e3:6b:17:43:18:93:f0:b7:02:78:ef:92:23:43:38:7d:01:8e:50:14:50:44:e4:39:ad:57:0a:b5:59:fd:e1:c2:8b:a5:1d:5b:bd:25:b9:e1:b0:e5:15:f0:8e:77:fd:3b:c1:c4:33:2c:84:45:84:61:ab:46:30:0c:ae:34:01:9d:fc:b6:41:1e:92:50:cb:d1:5a:a3:40:6c:57:d8:26:5f:4f:f6:8e:e5:c4:1b:e3:0b:bf:ee:f0:7b:02:03:01:00:01:'], [[['55:1d:0e:', '04:14:61:39:f8:c1:61:1a:a3:13:99:5a:52:c7:49:49:a4:cd:f3:b2:0c:a0:'], ['55:1d:23:', '30:16:80:14:61:39:f8:c1:61:1a:a3:13:99:5a:52:c7:49:49:a4:cd:f3:b2:0c:a0:'], ['55:1d:13:', '30:03:01:01:ff:']]]], ['2a:86:48:86:f7:0d:01:01:0b:', 'null'], '00:0f:43:36:fb:b7:7d:76:a6:00:69:0f:1f:80:a5:75:62:f7:3a:db:84:1c:5d:b0:36:5c:6d:d3:5b:38:29:a2:e4:21:73:eb:49:ce:c1:a0:f1:30:57:fd:66:59:14:0b:e7:08:50:9b:db:0b:8b:7c:03:21:0c:00:8b:f0:66:92:9e:bd:d9:0b:4c:0b:77:9a:24:65:d6:e7:3c:93:6e:1d:22:a2:34:0e:31:31:52:5b:1f:b0:ad:4c:e8:ef:1d:15:8a:34:80:78:f4:cc:fa:31:4a:b3:60:85:fb:af:97:85:9b:c7:ff:02:62:51:2b:e7:b5:b8:47:1a:74:ae:cc:31:ac:5c:20:0e:4e:0c:47:43:ab:08:96:54:3f:b4:3e:cb:40:65:0e:a5:d1:7c:b1:17:6d:ea:73:55:74:47:c6:db:95:cc:63:a6:95:23:6e:60:d9:da:8d:ce:da:ba:1e:e4:c5:81:a4:82:1e:1a:46:4d:bd:bb:35:a3:a0:45:7c:35:4c:0a:6a:8e:cb:a3:88:e3:d9:61:9f:d0:37:2d:45:71:0d:7e:b3:d5:22:de:b7:c3:b2:2d:07:93:2c:92:6a:70:18:e1:df:fc:72:0f:58:fe:7e:eb:88:9a:b7:88:6c:f8:ba:c2:d4:23:f4:4c:f6:1e:ec:ba:db:a5:12:a6:ff:89:af:']]\n"
     ]
    }
   ],
   "source": [
    "jv = eval (pem2json('../dndd2/cert.pem'))\n",
    "print jv"
   ]
  },
  {
   "cell_type": "code",
   "execution_count": 7,
   "metadata": {},
   "outputs": [
    {
     "name": "stdout",
     "output_type": "stream",
     "text": [
      "[201, 204, 191, 144, 52, 148, 63, 250, 71, 139, 43, 105, 9, 233, 87, 238, 201, 77, 18, 236, 222, 86, 195, 199, 177, 44, 89, 134, 108, 183, 149, 47, 197, 16, 164, 159, 83, 149, 240, 114]\n"
     ]
    }
   ],
   "source": [
    "prf = PRF()\n",
    "prf.label('client finished')\n",
    "prf.seed(str2list(s))\n",
    "prf.secret(str2list(s))\n",
    "print [i for i in prf.get_n_byte(40)]"
   ]
  },
  {
   "cell_type": "markdown",
   "metadata": {},
   "source": [
    "<h2>Diffie Hellman</h2>"
   ]
  },
  {
   "cell_type": "code",
   "execution_count": 8,
   "metadata": {},
   "outputs": [
    {
     "name": "stdout",
     "output_type": "stream",
     "text": [
      "81627056056149708926581350228237062105562370811417688027846303635168461519066368042402420246282106695679412182043949233033722708922380026070983344271161152518950310208809646062470295983137180890337202895394436405833685516148586631279067936094467774717827877250616320737693161087352824898425643539462292888470\n"
     ]
    }
   ],
   "source": [
    "A = DiffieHellman()\n",
    "B = DiffieHellman(A.p, A.g, A.ya)\n",
    "A.set_yb(B.yb)\n",
    "print A.K"
   ]
  },
  {
   "cell_type": "code",
   "execution_count": 9,
   "metadata": {},
   "outputs": [
    {
     "data": {
      "text/plain": [
       "81627056056149708926581350228237062105562370811417688027846303635168461519066368042402420246282106695679412182043949233033722708922380026070983344271161152518950310208809646062470295983137180890337202895394436405833685516148586631279067936094467774717827877250616320737693161087352824898425643539462292888470L"
      ]
     },
     "execution_count": 9,
     "metadata": {},
     "output_type": "execute_result"
    }
   ],
   "source": [
    "B.K"
   ]
  },
  {
   "cell_type": "code",
   "execution_count": 11,
   "metadata": {},
   "outputs": [],
   "source": [
    "#rsa = RSA()\n",
    "#rsa.encode(123)"
   ]
  },
  {
   "cell_type": "code",
   "execution_count": 12,
   "metadata": {},
   "outputs": [],
   "source": [
    "cli = Client()\n",
    "cli.send('GET /')\n",
    "cli.recv()"
   ]
  },
  {
   "cell_type": "code",
   "execution_count": null,
   "metadata": {},
   "outputs": [],
   "source": []
  }
 ],
 "metadata": {
  "kernelspec": {
   "display_name": "Python 2",
   "language": "python",
   "name": "python2"
  },
  "language_info": {
   "codemirror_mode": {
    "name": "ipython",
    "version": 2
   },
   "file_extension": ".py",
   "mimetype": "text/x-python",
   "name": "python",
   "nbconvert_exporter": "python",
   "pygments_lexer": "ipython2",
   "version": "2.7.15rc1"
  }
 },
 "nbformat": 4,
 "nbformat_minor": 2
}
