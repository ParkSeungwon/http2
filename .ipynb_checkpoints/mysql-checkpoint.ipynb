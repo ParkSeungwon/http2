{
 "cells": [
  {
   "cell_type": "code",
   "execution_count": 1,
   "metadata": {},
   "outputs": [],
   "source": [
    "from tls_crypt import *"
   ]
  },
  {
   "cell_type": "code",
   "execution_count": 2,
   "metadata": {},
   "outputs": [],
   "source": [
    "sql = SqlQuery()"
   ]
  },
  {
   "cell_type": "code",
   "execution_count": 3,
   "metadata": {},
   "outputs": [
    {
     "data": {
      "text/plain": [
       "True"
      ]
     },
     "execution_count": 3,
     "metadata": {},
     "output_type": "execute_result"
    }
   ],
   "source": [
    "sql.connect('localhost', 'dndd', 'dndddndd', 'dndd')"
   ]
  },
  {
   "cell_type": "code",
   "execution_count": 5,
   "metadata": {},
   "outputs": [],
   "source": [
    "jv = eval(sql.select('Users',''))"
   ]
  },
  {
   "cell_type": "code",
   "execution_count": 6,
   "metadata": {},
   "outputs": [
    {
     "data": {
      "text/plain": [
       "[{'date': '2015-03-02 01:19:15',\n",
       "  'email': 'anony@anony',\n",
       "  'level': 0,\n",
       "  'name': 'anonymous',\n",
       "  'password': '*906EA69EB34639DF2D9525ADD4DEC111078A9CFE',\n",
       "  'tel': '---'},\n",
       " {'date': '2015-03-07 23:08:21',\n",
       "  'email': 'zezeon@msn.com',\n",
       "  'level': 4,\n",
       "  'name': '\\xeb\\xb0\\x95\\xec\\x8a\\xb9\\xec\\x9b\\x90',\n",
       "  'password': '*BB1A938B1966B2C438F50F723235E9C9F137BD3B',\n",
       "  'tel': '031-255-6698'},\n",
       " {'date': '2017-10-27 22:54:43',\n",
       "  'email': 'zezeon@naver.com',\n",
       "  'level': 1,\n",
       "  'name': 'Park',\n",
       "  'password': 'cockcodk0',\n",
       "  'tel': '031'},\n",
       " {'date': '2017-10-27 22:57:49',\n",
       "  'email': 'zezeon@daum.net',\n",
       "  'level': 1,\n",
       "  'name': 'ParkSeungwon',\n",
       "  'password': '*4948DA89EFC9FA31114BBE8D6B80A4A581DCA9AA',\n",
       "  'tel': '0312556698'},\n",
       " {'date': '2015-03-02 01:19:15',\n",
       "  'email': 'z@f.f',\n",
       "  'level': 0,\n",
       "  'name': 'anonymous',\n",
       "  'password': '*906EA69EB34639DF2D9525ADD4DEC111078A9CFE',\n",
       "  'tel': '---'}]"
      ]
     },
     "execution_count": 6,
     "metadata": {},
     "output_type": "execute_result"
    }
   ],
   "source": [
    "jv"
   ]
  },
  {
   "cell_type": "code",
   "execution_count": 7,
   "metadata": {},
   "outputs": [
    {
     "data": {
      "text/plain": [
       "True"
      ]
     },
     "execution_count": 7,
     "metadata": {},
     "output_type": "execute_result"
    }
   ],
   "source": [
    "sql.connect('localhost', 'site', 'sitesite', 'site')"
   ]
  },
  {
   "cell_type": "code",
   "execution_count": 8,
   "metadata": {},
   "outputs": [
    {
     "data": {
      "text/plain": [
       "u'[\\n\\t{\\n\\t\\t\"date\" : \"2018-11-22 20:51:53\",\\n\\t\\t\"email\" : \"zezeon@msn.com\",\\n\\t\\t\"level\" : 1,\\n\\t\\t\"name\" : \"\\ubc15\\uc2b9\\uc6d0\",\\n\\t\\t\"password\" : \"*52D5BF4B668C0862D14C792A601FB3D1AB7638E3\"\\n\\t}\\n]'"
      ]
     },
     "execution_count": 8,
     "metadata": {},
     "output_type": "execute_result"
    }
   ],
   "source": [
    "sql.select('users','')"
   ]
  },
  {
   "cell_type": "code",
   "execution_count": null,
   "metadata": {},
   "outputs": [],
   "source": []
  }
 ],
 "metadata": {
  "kernelspec": {
   "display_name": "Python 2",
   "language": "python",
   "name": "python2"
  },
  "language_info": {
   "codemirror_mode": {
    "name": "ipython",
    "version": 2
   },
   "file_extension": ".py",
   "mimetype": "text/x-python",
   "name": "python",
   "nbconvert_exporter": "python",
   "pygments_lexer": "ipython2",
   "version": "2.7.15rc1"
  }
 },
 "nbformat": 4,
 "nbformat_minor": 2
}
