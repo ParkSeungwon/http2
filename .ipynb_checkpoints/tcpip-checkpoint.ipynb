{
 "cells": [
  {
   "cell_type": "code",
   "execution_count": 2,
   "metadata": {},
   "outputs": [
    {
     "name": "stdout",
     "output_type": "stream",
     "text": [
      "HTTP/1.1 200 OK\r\n",
      "Content-Type: text/html; charset=utf-8\r\n",
      "Content-Length: 9906\r\n",
      "\r\n",
      "\n",
      "<!DOCTYPE html>\n",
      "<html>\n",
      "\t<head>\n",
      "\t\t<meta charset=\"utf-8\" />\n",
      "\t\t<meta name=\"viewport\" content=\"width=device-width, initial-scale=1, shrink-to-fit=no\">\n",
      "    <link rel=\"stylesheet\" href=\"https://stackpath.bootstrapcdn.com/bootstrap/4.1.3/css/bootstrap.min.css\" integrity=\"sha384-MCw98/SFnGE8fJT3GXwEOngsV7Zt27NXFoaoApmYm81iuXoPkFOJwJ8ERdknLPMO\" crossorigin=\"anonymous\">\n",
      "    <script src=\"https://code.jquery.com/jquery-3.3.1.slim.min.js\" integrity=\"sha384-q8i/X+965DzO0rT7abK41JStQIAqVgRVzpbzo5smXKp4YfRvH+8abtTE1Pi6jizo\" crossorigin=\"anonymous\"></script>\n",
      "    <script src=\"https://cdnjs.cloudflare.com/ajax/libs/popper.js/1.14.3/umd/popper.min.js\" integrity=\"sha384-ZMP7rVo3mIykV+2+9J3UJ46jBk0WLaUAdn689aCwoqbBJiSnjAK/l8WvCWPIPm49\" crossorigin=\"anonymous\"></script>\n",
      "\t\t<script src=\"https://stackpath.bootstrapcdn.com/bootstrap/4.1.3/js/bootstrap.min.js\" ></script>\n",
      "\t\t<script src=\"https://cdn.jsdelivr.net/npm/vue\"></script>\n",
      "\n",
      "\t\t<link rel=\"stylesheet\" type=\"text/css\" href=\"index.css\">\n",
      "\t\t<script src='index.js'> </script>\n",
      "\t</head>\n",
      "\n",
      "\t<body> \n",
      "\t\t<div id='frame'>\n",
      "\t\t\t<h1>7YOA7J207YuA7J2AIOydtOqyg+ydtOuLpC4=</h1>\n",
      "\t\t\t<iframe onload='resize()' id='iframe' src='data:text/html;charset=utf-8;base64,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' width=100% height=400px></iframe>\n",
      "\t\t\t<button onclick='on_click()'>edit</button>\n",
      "\t\t\t<button onclick='resize()'>resize</button>\n",
      "\t\t\t<div id='app-6'>\n",
      "\t\t\t\t<p>{{message}}</p>\n",
      "\t\t\t\t<input v-model='message'>\n",
      "\t\t\t</div>\n",
      "\t\t</div>\n",
      "\t\t<div id='edit' style='display: none' class='container'>\n",
      "\t\t\t<form action=\"index.html\" method=\"post\" onsubmit=\"on_submit()\">\n",
      "\t\t\t\t<div class='form-group'>\n",
      "\t\t\t\t\t<label for='title'>Title</label>\n",
      "\t\t\t\t\t<input type=\"text\" id='title' name=\"title\" value='7YOA7J207YuA7J2AIOydtOqyg+ydtOuLpC4=' class='form-control'>\n",
      "\t\t\t\t\t<label for='content'>Content</label>\n",
      "\t\t\t\t\t<textarea rows=\"20\" id='content' name=\"content\" class='form-control'>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</textarea>\n",
      "\t\t\t\t\t<input type=\"submit\" value=\"ok\">\n",
      "\t\t\t\t\t<button onclick='cancel()'>cancel</button>\n",
      "\t\t\t\t</div>\n",
      "\t\t\t</form>\n",
      "\t\t</div>\n",
      "\t</body>\n",
      "</html>\n",
      "\n"
     ]
    }
   ],
   "source": [
    "from tls_crypt import *\n",
    "cli = Client('localhost', 2002)\n",
    "cli.send('GET /upload.html')\n",
    "print cli.recv()"
   ]
  },
  {
   "cell_type": "code",
   "execution_count": null,
   "metadata": {},
   "outputs": [],
   "source": [
    "tlsc = TLS_client('localhost', 4433)"
   ]
  },
  {
   "cell_type": "code",
   "execution_count": null,
   "metadata": {},
   "outputs": [],
   "source": [
    "tlsc.send('GET /')\n",
    "tlsc.recv()"
   ]
  }
 ],
 "metadata": {
  "kernelspec": {
   "display_name": "Python 2",
   "language": "python",
   "name": "python2"
  },
  "language_info": {
   "codemirror_mode": {
    "name": "ipython",
    "version": 2
   },
   "file_extension": ".py",
   "mimetype": "text/x-python",
   "name": "python",
   "nbconvert_exporter": "python",
   "pygments_lexer": "ipython2",
   "version": "2.7.15rc1"
  }
 },
 "nbformat": 4,
 "nbformat_minor": 2
}
