{
 "cells": [
  {
   "cell_type": "code",
   "execution_count": 1,
   "metadata": {},
   "outputs": [],
   "source": [
    "from tls_crypt import *"
   ]
  },
  {
   "cell_type": "code",
   "execution_count": 2,
   "metadata": {},
   "outputs": [],
   "source": [
    "cli = HTTPS_Client()"
   ]
  },
  {
   "cell_type": "code",
   "execution_count": 3,
   "metadata": {},
   "outputs": [],
   "source": [
    "cli.send('GET /')"
   ]
  },
  {
   "cell_type": "code",
   "execution_count": 4,
   "metadata": {},
   "outputs": [
    {
     "data": {
      "text/plain": [
       "u'HTTP/1.1 200 OK\\r\\nContent-Type: text/html; charset=utf-8\\r\\nContent-Length: 2666\\r\\n\\r\\n<html>\\n <head>\\n  <meta charset=\"utf-8\" />\\n  <meta content=\"width=device-width, initial-scale=1, shrink-to-fit=no\" name=\"viewport\" />\\n  <script src=\"https://ajax.googleapis.com/ajax/libs/jquery/3.2.1/jquery.min.js\"></script>\\n  <link crossorigin=\"anonymous\" href=\"https://maxcdn.bootstrapcdn.com/bootstrap/3.3.7/css/bootstrap.min.css\" integrity=\"sha384-BVYiiSIFeK1dGmJRAkycuHAHRg32OmUcww7on3RYdg4Va+PmSTsz/K68vbdEjh4u\" rel=\"stylesheet\" />\\n  <link crossorigin=\"anonymous\" href=\"https://maxcdn.bootstrapcdn.com/bootstrap/3.3.7/css/bootstrap-theme.min.css\" integrity=\"sha384-rHyoN1iRsVXV4nD0JutlnGaslCJuC7uwjduW9SVrLvRYooPp2bWYgmgJQIXwl/Sp\" rel=\"stylesheet\" />\\n  <script crossorigin=\"anonymous\" integrity=\"sha384-Tc5IQib027qvyjSMfHjOMaLkfuWVxZxUPnCJA7l2mCWNIpG9mGCD8wGNIcPD7Txa\" src=\"https://maxcdn.bootstrapcdn.com/bootstrap/3.3.7/js/bootstrap.min.js\">\\n  </script>\\n  <style type=\"text/css\" src=\"dndd.css\"></style>\\n  <script src=\"dndd.js\"></script>\\n  <title>\\n   \\ud1a0\\ub860\\uacfc \\ubbfc\\uc8fc\\uc801\\uc778 \\uc758\\uc0ac \\uacb0\\uc815\\n  </title>\\n </head>\\n <body>\\n\\n<div class=\"container\">\\n\\t\\n<div id=\"myCarousel\" class=\"carousel slide\" data-ride=\"carousel\">\\n  \\n  <!-- Indicators -->\\n  <ol class=\"carousel-indicators\">\\n    <li data-target=\"#myCarousel\" data-slide-to=\"0\" class=\"active\"></li>\\n\\t<li data-target=\"#myCarousel\" data-slide-to=\"1\"></li>\\n<li data-target=\"#myCarousel\" data-slide-to=\"2\"></li>\\n<li data-target=\"#myCarousel\" data-slide-to=\"3\"></li>\\n\\n  </ol>\\n  \\n  <!-- Wrapper for slides -->\\n  <div class=\"carousel-inner\">\\n\\t<div class=\"item active\">\\n\\t\\t<a href=\"main.html?db=dndd2\"><img class=\"center-block\" src=\"chicago.jpg\"></a>\\n\\t\\t<div class=\"carousel-caption\"><h2>\\ud1a0\\ub860\\uacfc \\ubbfc\\uc8fc\\uc801\\uc778 \\uc758\\uc0ac \\uacb0\\uc815</h2></div>\\n\\t</div>\\n\\n\\t<div class=\"item\">\\n\\t\\t<a href=\"http://localhost:8080/In\"><img class=\"center-block\" src=\"la.jpg\"></a>\\n\\t\\t<div class=\"carousel-caption\"><h2>\\uc778\\ud130\\ub137 \\uc1fc\\ud551\\ubab0</h2></div>\\n\\t</div>\\n\\n\\t<div class=\"item\">\\n\\t\\t<a href=\"http://localhost:8080/inzent\"><img class=\"center-block\" src=\"ny.jpg\"></a>\\n\\t\\t<div class=\"carousel-caption\"><h2>Inzent ECM Monitoring System</h2></div>\\n\\t</div>\\n\\n\\t<div class=\"item\">\\n\\t\\t<a href=\"main.html?db=dndd\"><img class=\"center-block\" src=\"chicago.jpg\"></a>\\n\\t\\t<div class=\"carousel-caption\"><h2>\\ub098\\uc758 \\uc815\\ub9ac\\ub178\\ud2b8</h2></div>\\n\\t</div>\\n\\n  </div>\\n  \\n  <!-- Left and right controls -->\\n  <a class=\"left carousel-control\" href=\"#myCarousel\" data-slide=\"prev\">\\n    <span class=\"glyphicon glyphicon-chevron-left\"></span>\\n    <span class=\"sr-only\">Previous</span>\\n  </a>\\n  <a class=\"right carousel-control\" href=\"#myCarousel\" data-slide=\"next\">\\n    <span class=\"glyphicon glyphicon-chevron-right\"></span>\\n    <span class=\"sr-only\">Next</span>\\n  </a>\\n</div>\\n\\n</div>\\n\\n </body>\\n</html>\\n'"
      ]
     },
     "execution_count": 4,
     "metadata": {},
     "output_type": "execute_result"
    }
   ],
   "source": [
    "cli.recv()"
   ]
  }
 ],
 "metadata": {
  "kernelspec": {
   "display_name": "Python 2",
   "language": "python",
   "name": "python2"
  },
  "language_info": {
   "codemirror_mode": {
    "name": "ipython",
    "version": 2
   },
   "file_extension": ".py",
   "mimetype": "text/x-python",
   "name": "python",
   "nbconvert_exporter": "python",
   "pygments_lexer": "ipython2",
   "version": "2.7.15rc1"
  }
 },
 "nbformat": 4,
 "nbformat_minor": 2
}
