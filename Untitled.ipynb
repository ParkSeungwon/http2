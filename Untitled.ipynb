{
 "cells": [
  {
   "cell_type": "code",
   "execution_count": 1,
   "metadata": {},
   "outputs": [],
   "source": [
    "from tls_crypt import AES"
   ]
  },
  {
   "cell_type": "code",
   "execution_count": 2,
   "metadata": {},
   "outputs": [],
   "source": [
    "aes = AES()"
   ]
  },
  {
   "cell_type": "code",
   "execution_count": 3,
   "metadata": {},
   "outputs": [],
   "source": [
    "def hex2list(s):\n",
    "    assert len(s) % 16 == 0\n",
    "    l = []\n",
    "    str = ''\n",
    "    for c in s:\n",
    "        str += c\n",
    "        if len(str) == 2:\n",
    "            l.append(int(str, 16))\n",
    "            str = ''\n",
    "    return l"
   ]
  },
  {
   "cell_type": "code",
   "execution_count": 4,
   "metadata": {},
   "outputs": [
    {
     "name": "stdout",
     "output_type": "stream",
     "text": [
      "[210, 233, 125, 20, 171, 220, 33, 19, 145, 182, 107, 184, 212, 119, 74, 197, 170, 131, 19, 242, 141, 25, 197, 223, 217, 157, 116, 27, 180, 148, 227, 150, 35, 41, 121, 5, 88, 141, 71, 69, 235, 162, 124, 98, 156, 160, 218, 228]\n"
     ]
    }
   ],
   "source": [
    "aes.key(0x231a650ecfc578bea4b0467adaab33c2)\n",
    "aes.iv(0x4c63014c671a8bae25b22def0f57ce79)\n",
    "msg = '1400000c48037b71499792961515c436f4c6330f8748593625435272724d39632cdf4c060b0b0b0b0b0b0b0b0b0b0b0b'\n",
    "print aes.encrypt(hex2list(msg))"
   ]
  },
  {
   "cell_type": "code",
   "execution_count": null,
   "metadata": {},
   "outputs": [],
   "source": []
  }
 ],
 "metadata": {
  "kernelspec": {
   "display_name": "Python 2",
   "language": "python",
   "name": "python2"
  },
  "language_info": {
   "codemirror_mode": {
    "name": "ipython",
    "version": 2
   },
   "file_extension": ".py",
   "mimetype": "text/x-python",
   "name": "python",
   "nbconvert_exporter": "python",
   "pygments_lexer": "ipython2",
   "version": "2.7.15rc1"
  }
 },
 "nbformat": 4,
 "nbformat_minor": 2
}
