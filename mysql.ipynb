{
 "cells": [
  {
   "cell_type": "code",
   "execution_count": 1,
   "metadata": {},
   "outputs": [],
   "source": [
    "from tls_crypt import *"
   ]
  },
  {
   "cell_type": "code",
   "execution_count": 2,
   "metadata": {},
   "outputs": [],
   "source": [
    "sql = SqlQuery()"
   ]
  },
  {
   "cell_type": "code",
   "execution_count": 3,
   "metadata": {},
   "outputs": [
    {
     "data": {
      "text/plain": [
       "True"
      ]
     },
     "execution_count": 3,
     "metadata": {},
     "output_type": "execute_result"
    }
   ],
   "source": [
    "sql.connect('localhost', 'dndd', 'dndddndd', 'dndd')"
   ]
  },
  {
   "cell_type": "code",
   "execution_count": 8,
   "metadata": {},
   "outputs": [],
   "source": [
    "jv = eval(sql.select('Users',''))"
   ]
  },
  {
   "cell_type": "code",
   "execution_count": 9,
   "metadata": {},
   "outputs": [
    {
     "name": "stdout",
     "output_type": "stream",
     "text": [
      "[{'tel': '---', 'name': 'anonymous', 'level': 0, 'date': '2015-03-02 01:19:15', 'password': '*906EA69EB34639DF2D9525ADD4DEC111078A9CFE', 'email': 'anony@anony'}, {'tel': '031-255-6698', 'name': '\\xeb\\xb0\\x95\\xec\\x8a\\xb9\\xec\\x9b\\x90', 'level': 4, 'date': '2015-03-07 23:08:21', 'password': '*BB1A938B1966B2C438F50F723235E9C9F137BD3B', 'email': 'zezeon@msn.com'}, {'tel': '031', 'name': 'Park', 'level': 1, 'date': '2017-10-27 22:54:43', 'password': 'cockcodk0', 'email': 'zezeon@naver.com'}, {'tel': '0312556698', 'name': 'ParkSeungwon', 'level': 1, 'date': '2017-10-27 22:57:49', 'password': '*4948DA89EFC9FA31114BBE8D6B80A4A581DCA9AA', 'email': 'zezeon@daum.net'}, {'tel': '---', 'name': 'anonymous', 'level': 0, 'date': '2015-03-02 01:19:15', 'password': '*906EA69EB34639DF2D9525ADD4DEC111078A9CFE', 'email': 'z@f.f'}, {'tel': '233-3333', 'name': '\\xeb\\xb0\\x95\\xec\\x8a\\xb9\\xec\\x9b\\x90', 'level': 2, 'date': '0000-00-00 00:00:00', 'password': '676', 'email': 'zezeon@naver.com'}, {'tel': '233-3333', 'name': '\\xeb\\xb0\\x95\\xec\\x8a\\xb9\\xec\\x9b\\x90', 'level': 2, 'date': '0000-00-00 00:00:00', 'password': '676', 'email': 'zezeon@nave.com'}, {'tel': '233-3333', 'name': '\\xeb\\xb0\\x95\\xec\\x8a\\xb9\\xec\\x9b\\x90', 'level': 2, 'date': '0000-00-00 00:00:00', 'password': '676', 'email': 'zezeon@nave.com'}, {'tel': '233-3333', 'name': '\\xeb\\xb0\\x95\\xec\\x8a\\xb9\\xec\\x9b\\x90', 'level': 2, 'date': '2018-12-08 12:17:40', 'password': '*ADB6C2AC0BEB4C32A2DC274E97EC5762362CB4C6', 'email': 'zezeon@naverr.com'}]\n"
     ]
    }
   ],
   "source": [
    "print jv"
   ]
  },
  {
   "cell_type": "code",
   "execution_count": 6,
   "metadata": {},
   "outputs": [
    {
     "data": {
      "text/plain": [
       "[(u'email', 30, u'CHAR'),\n",
       " (u'password', 45, u'CHAR'),\n",
       " (u'level', 4, u'TINYINT'),\n",
       " (u'name', 45, u'VARCHAR'),\n",
       " (u'tel', 20, u'VARCHAR'),\n",
       " (u'date', 19, u'DATETIME')]"
      ]
     },
     "execution_count": 6,
     "metadata": {},
     "output_type": "execute_result"
    }
   ],
   "source": [
    "sql.columns()"
   ]
  },
  {
   "cell_type": "code",
   "execution_count": 7,
   "metadata": {},
   "outputs": [
    {
     "data": {
      "text/plain": [
       "False"
      ]
     },
     "execution_count": 7,
     "metadata": {},
     "output_type": "execute_result"
    }
   ],
   "source": [
    "sql.insert(['zezeon@naverr.com', sql.encrypt('hellot'),'2','박승원','233-3333',sql.now()])"
   ]
  },
  {
   "cell_type": "code",
   "execution_count": 8,
   "metadata": {},
   "outputs": [
    {
     "data": {
      "text/plain": [
       "True"
      ]
     },
     "execution_count": 8,
     "metadata": {},
     "output_type": "execute_result"
    }
   ],
   "source": [
    "sql.connect('localhost', 'site', 'sitesite', 'site')"
   ]
  },
  {
   "cell_type": "code",
   "execution_count": 10,
   "metadata": {},
   "outputs": [
    {
     "name": "stdout",
     "output_type": "stream",
     "text": [
      "[{'content': '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', 'edit': 1, 'num': 1, 'title': '7YOA7J207YuA7J2AIOydtOqyg+ydtOuLpC4=', 'date': '2018-11-20 10:24:48', 'page': 1, 'email': 'zezeon@msn.com', 'comment_order': 1}, {'content': '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', 'edit': 2, 'num': 1, 'title': '7YOA7J207YuA7J2AIOydtOqyg+ydtOuLpC4=', 'date': '0000-00-00 00:00:00', 'page': 1, 'email': 'zezeon@msn.com', 'comment_order': 1}]\n"
     ]
    }
   ],
   "source": [
    "print eval(sql.select('bbs',''))"
   ]
  },
  {
   "cell_type": "code",
   "execution_count": null,
   "metadata": {},
   "outputs": [],
   "source": []
  }
 ],
 "metadata": {
  "kernelspec": {
   "display_name": "Python 2",
   "language": "python",
   "name": "python2"
  },
  "language_info": {
   "codemirror_mode": {
    "name": "ipython",
    "version": 2
   },
   "file_extension": ".py",
   "mimetype": "text/x-python",
   "name": "python",
   "nbconvert_exporter": "python",
   "pygments_lexer": "ipython2",
   "version": "2.7.15rc1"
  }
 },
 "nbformat": 4,
 "nbformat_minor": 2
}
